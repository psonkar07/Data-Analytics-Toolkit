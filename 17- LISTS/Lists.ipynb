{
  "nbformat": 4,
  "nbformat_minor": 0,
  "metadata": {
    "colab": {
      "provenance": []
    },
    "kernelspec": {
      "name": "python3",
      "display_name": "Python 3"
    },
    "language_info": {
      "name": "python"
    }
  },
  "cells": [
    {
      "cell_type": "code",
      "source": [
        "a= [1,'2', 2,5,6,8]\n",
        "print(a)"
      ],
      "metadata": {
        "colab": {
          "base_uri": "https://localhost:8080/"
        },
        "id": "tR0mxgQnWLHE",
        "outputId": "e5047736-764f-4075-fd27-f059fa4fb952"
      },
      "execution_count": 1,
      "outputs": [
        {
          "output_type": "stream",
          "name": "stdout",
          "text": [
            "[1, '2', 2, 5, 6, 8]\n"
          ]
        }
      ]
    },
    {
      "cell_type": "markdown",
      "source": [
        "### Slicing"
      ],
      "metadata": {
        "id": "SoH40BCiXYVh"
      }
    },
    {
      "cell_type": "code",
      "source": [
        "a = [1, 2 ,5 ,6 ,7 ,8,5,6,]\n",
        "print(a[0:5])"
      ],
      "metadata": {
        "colab": {
          "base_uri": "https://localhost:8080/"
        },
        "id": "AZ2lAlGFWf82",
        "outputId": "e4a23a44-bae5-459c-c40a-fabeecde6d18"
      },
      "execution_count": 2,
      "outputs": [
        {
          "output_type": "stream",
          "name": "stdout",
          "text": [
            "[1, 2, 5, 6, 7]\n"
          ]
        }
      ]
    },
    {
      "cell_type": "code",
      "source": [
        "'Pratiksha Sonkar'[10:13]"
      ],
      "metadata": {
        "colab": {
          "base_uri": "https://localhost:8080/",
          "height": 35
        },
        "id": "B1_9MeulW__5",
        "outputId": "2e2b5dd7-835f-4394-fc7a-70247de00690"
      },
      "execution_count": 5,
      "outputs": [
        {
          "output_type": "execute_result",
          "data": {
            "text/plain": [
              "'Son'"
            ],
            "application/vnd.google.colaboratory.intrinsic+json": {
              "type": "string"
            }
          },
          "metadata": {},
          "execution_count": 5
        }
      ]
    },
    {
      "cell_type": "code",
      "source": [
        "text ='Pratiksha Sonkar'\n",
        "text[1:len(text)-1]"
      ],
      "metadata": {
        "colab": {
          "base_uri": "https://localhost:8080/",
          "height": 35
        },
        "id": "sQzqGvUsYH7p",
        "outputId": "7d87aeeb-f2cf-4774-b28a-37972c56bcee"
      },
      "execution_count": 8,
      "outputs": [
        {
          "output_type": "execute_result",
          "data": {
            "text/plain": [
              "'ratiksha Sonka'"
            ],
            "application/vnd.google.colaboratory.intrinsic+json": {
              "type": "string"
            }
          },
          "metadata": {},
          "execution_count": 8
        }
      ]
    },
    {
      "cell_type": "code",
      "source": [
        "a =  [1,234,45,67,33,567]\n",
        "for i in range(len(a)):\n",
        "  print(i,a[i])"
      ],
      "metadata": {
        "colab": {
          "base_uri": "https://localhost:8080/"
        },
        "id": "K8eHh2o3ZIHI",
        "outputId": "4d1d9d6c-f1fd-4db1-b3e2-171bc4db410b"
      },
      "execution_count": 10,
      "outputs": [
        {
          "output_type": "stream",
          "name": "stdout",
          "text": [
            "0 1\n",
            "1 234\n",
            "2 45\n",
            "3 67\n",
            "4 33\n",
            "5 567\n"
          ]
        }
      ]
    },
    {
      "cell_type": "markdown",
      "source": [
        "### Remove the white spaces from the list."
      ],
      "metadata": {
        "id": "REj0cEFymx0N"
      }
    },
    {
      "cell_type": "code",
      "execution_count": null,
      "metadata": {
        "colab": {
          "base_uri": "https://localhost:8080/"
        },
        "id": "tDcwHZr0lqQC",
        "outputId": "758aef4c-dfad-4e48-e11e-aeb6c95cc6fc"
      },
      "outputs": [
        {
          "output_type": "stream",
          "name": "stdout",
          "text": [
            "pratiksha\n",
            "ashish\n",
            "satyam\n"
          ]
        }
      ],
      "source": [
        "lst = ['  pratiksha ' ,'ashish  ', '    satyam']\n",
        "\n",
        "for i in lst:\n",
        "  print(i.strip())"
      ]
    },
    {
      "cell_type": "markdown",
      "source": [
        "### Find out the name starts with P."
      ],
      "metadata": {
        "id": "v8MDV_pAmlL0"
      }
    },
    {
      "cell_type": "code",
      "source": [
        "lst = ['ashish', 'Pratiksha', 'satyam', 'avneet','prerna']\n",
        "\n",
        "for i in lst:\n",
        "  if i[0]== 'p' or i[0]== 'P':\n",
        "   print(i)\n",
        "\n",
        "\n"
      ],
      "metadata": {
        "colab": {
          "base_uri": "https://localhost:8080/"
        },
        "id": "yhO85UkOmOA8",
        "outputId": "365a5528-98eb-4ebe-d264-8ca689a2f0de"
      },
      "execution_count": null,
      "outputs": [
        {
          "output_type": "stream",
          "name": "stdout",
          "text": [
            "Pratiksha\n",
            "prerna\n"
          ]
        }
      ]
    },
    {
      "cell_type": "markdown",
      "source": [
        "### List Comprehension"
      ],
      "metadata": {
        "id": "SmDCyUY8pih-"
      }
    },
    {
      "cell_type": "code",
      "source": [
        "lst = ['ashish', 'pratiksha', '  satyam', 'avneet','prerna']\n",
        "\n",
        "#print([i.strip() for i in lst])\n",
        "#print([len(i) for i in lst])\n",
        "print([len(i.strip()) for i in lst])\n",
        "\n",
        "\n"
      ],
      "metadata": {
        "colab": {
          "base_uri": "https://localhost:8080/"
        },
        "id": "1Mv-LgDooPf1",
        "outputId": "27aba8fa-7549-40bc-9c18-2b6be0d8c007"
      },
      "execution_count": null,
      "outputs": [
        {
          "output_type": "stream",
          "name": "stdout",
          "text": [
            "[6, 9, 6, 6, 6]\n"
          ]
        }
      ]
    },
    {
      "cell_type": "code",
      "source": [
        "[ i for i in range (5) for j in range (3)]"
      ],
      "metadata": {
        "colab": {
          "base_uri": "https://localhost:8080/"
        },
        "id": "49RyM2Fbz2Sr",
        "outputId": "db304beb-8c72-48f6-a3a4-b9640dd1c68e"
      },
      "execution_count": null,
      "outputs": [
        {
          "output_type": "execute_result",
          "data": {
            "text/plain": [
              "[0, 0, 0, 1, 1, 1, 2, 2, 2, 3, 3, 3, 4, 4, 4]"
            ]
          },
          "metadata": {},
          "execution_count": 38
        }
      ]
    },
    {
      "cell_type": "code",
      "source": [
        "[ (i,j) for i in range (5) for j in range (3)]"
      ],
      "metadata": {
        "colab": {
          "base_uri": "https://localhost:8080/"
        },
        "id": "hL72o-cA0N3o",
        "outputId": "7ae8fb7e-16b4-4152-bc4e-632e2bfc1668"
      },
      "execution_count": null,
      "outputs": [
        {
          "output_type": "execute_result",
          "data": {
            "text/plain": [
              "[(0, 0),\n",
              " (0, 1),\n",
              " (0, 2),\n",
              " (1, 0),\n",
              " (1, 1),\n",
              " (1, 2),\n",
              " (2, 0),\n",
              " (2, 1),\n",
              " (2, 2),\n",
              " (3, 0),\n",
              " (3, 1),\n",
              " (3, 2),\n",
              " (4, 0),\n",
              " (4, 1),\n",
              " (4, 2)]"
            ]
          },
          "metadata": {},
          "execution_count": 39
        }
      ]
    },
    {
      "cell_type": "markdown",
      "source": [
        "### Remove the numbers and special characters"
      ],
      "metadata": {
        "id": "3nXzJg_6uCux"
      }
    },
    {
      "cell_type": "code",
      "source": [
        "lst = ['ashi345555sh', 'prat675iksha', 'sat566yam', 'avne88et','pre4355rna']\n",
        "\n",
        "for txt in lst:    # going through each text\n",
        "\n",
        "  for i in txt:         # going through each character pf single text.\n",
        "    if i not in '1234567890':\n",
        "     print(i, end ='')\n",
        "  print()\n",
        "\n"
      ],
      "metadata": {
        "colab": {
          "base_uri": "https://localhost:8080/"
        },
        "id": "nRdQ1IjQpXfV",
        "outputId": "8b1c451c-3a13-45d5-9aae-3c76b69de526"
      },
      "execution_count": null,
      "outputs": [
        {
          "output_type": "stream",
          "name": "stdout",
          "text": [
            "ashish\n",
            "pratiksha\n",
            "satyam\n",
            "avneet\n",
            "prerna\n"
          ]
        }
      ]
    },
    {
      "cell_type": "code",
      "source": [
        "for i in 'ash4567ish':\n",
        "  if i not in '1234567890':\n",
        "    print(i)"
      ],
      "metadata": {
        "colab": {
          "base_uri": "https://localhost:8080/"
        },
        "id": "n6G7zQ1SrWG0",
        "outputId": "91d19e99-ab5e-43e2-8827-1a7d4818efbd"
      },
      "execution_count": null,
      "outputs": [
        {
          "output_type": "stream",
          "name": "stdout",
          "text": [
            "a\n",
            "s\n",
            "h\n",
            "i\n",
            "s\n",
            "h\n"
          ]
        }
      ]
    },
    {
      "cell_type": "markdown",
      "source": [
        "### Add values in empty list"
      ],
      "metadata": {
        "id": "5Tf59AjIv-Wf"
      }
    },
    {
      "cell_type": "code",
      "source": [
        "lst=[]\n",
        "\n",
        "lst.append(2)\n",
        "lst.append(10)\n",
        "lst.append(3)\n",
        "lst.append(4)\n",
        "print(lst)"
      ],
      "metadata": {
        "colab": {
          "base_uri": "https://localhost:8080/"
        },
        "id": "9T5jyH3HuYXZ",
        "outputId": "f3fad7b9-fb2d-493d-b6ab-e5d5c163423f"
      },
      "execution_count": null,
      "outputs": [
        {
          "output_type": "stream",
          "name": "stdout",
          "text": [
            "[2, 10, 3, 4]\n"
          ]
        }
      ]
    },
    {
      "cell_type": "markdown",
      "source": [
        "### Create a list which will store the value 0-100 but only the number which are divisble by 5 or 7."
      ],
      "metadata": {
        "id": "fTdX1F5dwUUn"
      }
    },
    {
      "cell_type": "code",
      "source": [
        "lst =[]\n",
        "\n",
        "for i in range (1,101):\n",
        "  if (i%5==0 or i%7==0):\n",
        "    lst.append(i)\n",
        "print(lst)"
      ],
      "metadata": {
        "colab": {
          "base_uri": "https://localhost:8080/"
        },
        "id": "C5_Ns3mWwTgy",
        "outputId": "793e8fc4-4a6c-4266-ffa8-b3027afedbed"
      },
      "execution_count": null,
      "outputs": [
        {
          "output_type": "stream",
          "name": "stdout",
          "text": [
            "[5, 7, 10, 14, 15, 20, 21, 25, 28, 30, 35, 40, 42, 45, 49, 50, 55, 56, 60, 63, 65, 70, 75, 77, 80, 84, 85, 90, 91, 95, 98, 100]\n"
          ]
        }
      ]
    },
    {
      "cell_type": "markdown",
      "source": [
        "### Output with reverse order"
      ],
      "metadata": {
        "id": "qeqa5bvSyFDv"
      }
    },
    {
      "cell_type": "code",
      "source": [
        "lst =[]\n",
        "\n",
        "for i in range (101,1, -1):\n",
        "  if (i%5==0 or i%7==0):\n",
        "    lst.append(i)\n",
        "print(lst)"
      ],
      "metadata": {
        "colab": {
          "base_uri": "https://localhost:8080/"
        },
        "id": "2bZhcej_yQJS",
        "outputId": "6c781cbf-bed0-43e4-9a11-1fbcc39f9e41"
      },
      "execution_count": null,
      "outputs": [
        {
          "output_type": "stream",
          "name": "stdout",
          "text": [
            "[100, 98, 95, 91, 90, 85, 84, 80, 77, 75, 70, 65, 63, 60, 56, 55, 50, 49, 45, 42, 40, 35, 30, 28, 25, 21, 20, 15, 14, 10, 7, 5]\n"
          ]
        }
      ]
    },
    {
      "cell_type": "markdown",
      "source": [
        "### Multidimensional List"
      ],
      "metadata": {
        "id": "aac8KJVj05YH"
      }
    },
    {
      "cell_type": "code",
      "source": [
        "list = [[1,2,3],[4,6,8],[5,8,7]]\n",
        "print(list)"
      ],
      "metadata": {
        "colab": {
          "base_uri": "https://localhost:8080/"
        },
        "id": "_seFGrEM09Ud",
        "outputId": "c0f3732d-b2b0-4150-a666-1fcae5f8d94b"
      },
      "execution_count": null,
      "outputs": [
        {
          "output_type": "stream",
          "name": "stdout",
          "text": [
            "[[1, 2, 3], [4, 6, 8], [5, 8, 7]]\n"
          ]
        }
      ]
    },
    {
      "cell_type": "code",
      "source": [
        "list[2]"
      ],
      "metadata": {
        "colab": {
          "base_uri": "https://localhost:8080/"
        },
        "id": "3fB51bvI1Pad",
        "outputId": "794b5c7f-35d0-4322-86f6-22a128c429ce"
      },
      "execution_count": null,
      "outputs": [
        {
          "output_type": "execute_result",
          "data": {
            "text/plain": [
              "[5, 8, 7]"
            ]
          },
          "metadata": {},
          "execution_count": 41
        }
      ]
    },
    {
      "cell_type": "code",
      "source": [
        "list[1][0]"
      ],
      "metadata": {
        "colab": {
          "base_uri": "https://localhost:8080/"
        },
        "id": "tWfp95Mi1RnP",
        "outputId": "c66e062c-1d8d-4cab-ea85-6ecdc765c67d"
      },
      "execution_count": null,
      "outputs": [
        {
          "output_type": "execute_result",
          "data": {
            "text/plain": [
              "4"
            ]
          },
          "metadata": {},
          "execution_count": 42
        }
      ]
    },
    {
      "cell_type": "code",
      "source": [
        "roll_no= 5\n",
        "lst = [\n",
        "    [1, 'Alice', 85],\n",
        "    [2, 'Bob', 78],\n",
        "    [3, 'Charlie', 92],\n",
        "    [4, 'David', 76],\n",
        "    [5, 'Eve', 89],\n",
        "    [6, 'Frank', 84],\n",
        "    [7, 'Grace', 91],\n",
        "    [8, 'Hank', 73],\n",
        "    [9, 'Ivy', 88],\n",
        "    [10, 'Jack', 95]]\n",
        "\n",
        "for i in lst:\n",
        "  if (i[0]== roll_no) :\n",
        "    print('Name:' ,i[1])"
      ],
      "metadata": {
        "colab": {
          "base_uri": "https://localhost:8080/"
        },
        "id": "8qrHJo3b1Y6O",
        "outputId": "fe86e64c-af4a-414f-f104-1d4fb53e6af6"
      },
      "execution_count": null,
      "outputs": [
        {
          "output_type": "stream",
          "name": "stdout",
          "text": [
            "Name: Eve\n"
          ]
        }
      ]
    },
    {
      "cell_type": "code",
      "source": [],
      "metadata": {
        "id": "162W9_9G391s"
      },
      "execution_count": null,
      "outputs": []
    }
  ]
}