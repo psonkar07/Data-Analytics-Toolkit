{
  "nbformat": 4,
  "nbformat_minor": 0,
  "metadata": {
    "colab": {
      "provenance": []
    },
    "kernelspec": {
      "name": "python3",
      "display_name": "Python 3"
    },
    "language_info": {
      "name": "python"
    }
  },
  "cells": [
    {
      "cell_type": "markdown",
      "source": [
        "### Remove numbers from the text."
      ],
      "metadata": {
        "id": "O77kIHgfBxB0"
      }
    },
    {
      "cell_type": "code",
      "execution_count": 2,
      "metadata": {
        "id": "oCscRNCcpyxC",
        "colab": {
          "base_uri": "https://localhost:8080/"
        },
        "outputId": "41b11b2b-2194-420e-c231-aaf69c3879d0"
      },
      "outputs": [
        {
          "output_type": "stream",
          "name": "stdout",
          "text": [
            "P\n",
            "r\n",
            "a\n",
            "t\n",
            "i\n",
            "k\n",
            "s\n",
            "h\n",
            "a\n",
            " \n",
            "S\n",
            "o\n",
            "n\n",
            "k\n",
            "a\n",
            "r\n"
          ]
        }
      ],
      "source": [
        "text = 'Prat6754iks234ha S123on765kar'\n",
        "\n",
        "for i in text:\n",
        "  if (i not in '0123456789'):\n",
        "    print(i)"
      ]
    },
    {
      "cell_type": "markdown",
      "source": [
        "### Remove numbers and special characters from the text."
      ],
      "metadata": {
        "id": "BHrfiYGBBkpc"
      }
    },
    {
      "cell_type": "code",
      "source": [
        "text = 'Prat6754!@#$iks234ha S123on7&%**65kar'\n",
        "\n",
        "for i in text:\n",
        "  if (i not in \"0123456789!@#$%^&*:/[]}\"):\n",
        "   print(i , end ='')\n"
      ],
      "metadata": {
        "id": "00SBnSUV19bv",
        "colab": {
          "base_uri": "https://localhost:8080/"
        },
        "outputId": "6026e331-9b12-4008-f04a-43fb9a6be168"
      },
      "execution_count": 10,
      "outputs": [
        {
          "output_type": "stream",
          "name": "stdout",
          "text": [
            "Pratiksha Sonkar"
          ]
        }
      ]
    },
    {
      "cell_type": "markdown",
      "source": [
        "### Range function"
      ],
      "metadata": {
        "id": "kSb8G7WXCPpf"
      }
    },
    {
      "cell_type": "code",
      "source": [
        "range(5)"
      ],
      "metadata": {
        "colab": {
          "base_uri": "https://localhost:8080/"
        },
        "id": "UmxoSJFKCYEH",
        "outputId": "f4a0d8c5-fe9f-4361-82cd-cd4f4a1f09fb"
      },
      "execution_count": 11,
      "outputs": [
        {
          "output_type": "execute_result",
          "data": {
            "text/plain": [
              "range(0, 5)"
            ]
          },
          "metadata": {},
          "execution_count": 11
        }
      ]
    },
    {
      "cell_type": "code",
      "source": [
        "for i in range(8):\n",
        "  print(i)"
      ],
      "metadata": {
        "colab": {
          "base_uri": "https://localhost:8080/"
        },
        "id": "5OydGjUxCrHN",
        "outputId": "78ff96bf-0324-430a-cb97-89f9ec0b66b4"
      },
      "execution_count": 12,
      "outputs": [
        {
          "output_type": "stream",
          "name": "stdout",
          "text": [
            "0\n",
            "1\n",
            "2\n",
            "3\n",
            "4\n",
            "5\n",
            "6\n",
            "7\n"
          ]
        }
      ]
    },
    {
      "cell_type": "code",
      "source": [
        "for i in range(1,5):\n",
        "  print(i)\n"
      ],
      "metadata": {
        "colab": {
          "base_uri": "https://localhost:8080/"
        },
        "id": "qoYwt7MUCxWn",
        "outputId": "45f785e8-da9b-49dc-bbc0-13c88202849d"
      },
      "execution_count": 13,
      "outputs": [
        {
          "output_type": "stream",
          "name": "stdout",
          "text": [
            "1\n",
            "2\n",
            "3\n",
            "4\n"
          ]
        }
      ]
    },
    {
      "cell_type": "markdown",
      "source": [
        "### Print the table of 15."
      ],
      "metadata": {
        "id": "2FBCa6pRDVfm"
      }
    },
    {
      "cell_type": "code",
      "source": [
        "num = 15\n",
        "\n",
        "for i in range(1,11):\n",
        "  print(num ,'*', i,'=', num*i)"
      ],
      "metadata": {
        "colab": {
          "base_uri": "https://localhost:8080/"
        },
        "id": "3XI4Iq0tDNGg",
        "outputId": "64937a32-4165-4f1c-a27c-08fcb5239a01"
      },
      "execution_count": 18,
      "outputs": [
        {
          "output_type": "stream",
          "name": "stdout",
          "text": [
            "15 * 1 = 15\n",
            "15 * 2 = 30\n",
            "15 * 3 = 45\n",
            "15 * 4 = 60\n",
            "15 * 5 = 75\n",
            "15 * 6 = 90\n",
            "15 * 7 = 105\n",
            "15 * 8 = 120\n",
            "15 * 9 = 135\n",
            "15 * 10 = 150\n"
          ]
        }
      ]
    },
    {
      "cell_type": "code",
      "source": [
        "for i in range(1,15,2):\n",
        "  print(i)"
      ],
      "metadata": {
        "colab": {
          "base_uri": "https://localhost:8080/"
        },
        "id": "NT9Y0xDsELxn",
        "outputId": "9c89efab-df28-40c6-bf32-25ecce228a21"
      },
      "execution_count": 19,
      "outputs": [
        {
          "output_type": "stream",
          "name": "stdout",
          "text": [
            "1\n",
            "3\n",
            "5\n",
            "7\n",
            "9\n",
            "11\n",
            "13\n"
          ]
        }
      ]
    },
    {
      "cell_type": "code",
      "source": [
        "num=13\n",
        "for i in range(num, num*10+1, num):\n",
        "  print(i)"
      ],
      "metadata": {
        "colab": {
          "base_uri": "https://localhost:8080/"
        },
        "id": "EK36SUWWFIyV",
        "outputId": "912ad5e4-77da-43cc-bf37-4d5ff65b8aa2"
      },
      "execution_count": 20,
      "outputs": [
        {
          "output_type": "stream",
          "name": "stdout",
          "text": [
            "13\n",
            "26\n",
            "39\n",
            "52\n",
            "65\n",
            "78\n",
            "91\n",
            "104\n",
            "117\n",
            "130\n"
          ]
        }
      ]
    },
    {
      "cell_type": "markdown",
      "source": [
        "### Print all the numbers which is even and in range between 0-100."
      ],
      "metadata": {
        "id": "ZwOUhc3ZHEAj"
      }
    },
    {
      "cell_type": "code",
      "source": [
        "for i in range(1,101):\n",
        "  if i%2==0 :\n",
        "    print(i, end= ',')"
      ],
      "metadata": {
        "colab": {
          "base_uri": "https://localhost:8080/"
        },
        "id": "OScMa7m6F50v",
        "outputId": "82b8897f-0007-40d9-e068-4c9a29761f6f"
      },
      "execution_count": 22,
      "outputs": [
        {
          "output_type": "stream",
          "name": "stdout",
          "text": [
            "2,4,6,8,10,12,14,16,18,20,22,24,26,28,30,32,34,36,38,40,42,44,46,48,50,52,54,56,58,60,62,64,66,68,70,72,74,76,78,80,82,84,86,88,90,92,94,96,98,100,"
          ]
        }
      ]
    },
    {
      "cell_type": "code",
      "source": [
        "for i in range(2,101,2):\n",
        "  print(i, end =',')"
      ],
      "metadata": {
        "colab": {
          "base_uri": "https://localhost:8080/"
        },
        "id": "9RCLcYbQGoPR",
        "outputId": "3360e433-1ecc-4a06-8997-67b08a34b473"
      },
      "execution_count": 24,
      "outputs": [
        {
          "output_type": "stream",
          "name": "stdout",
          "text": [
            "2,4,6,8,10,12,14,16,18,20,22,24,26,28,30,32,34,36,38,40,42,44,46,48,50,52,54,56,58,60,62,64,66,68,70,72,74,76,78,80,82,84,86,88,90,92,94,96,98,100,"
          ]
        }
      ]
    },
    {
      "cell_type": "markdown",
      "source": [
        "### Print all the numbers which is divisble by 5 or 7 in range upto number."
      ],
      "metadata": {
        "id": "kAefAigQHidB"
      }
    },
    {
      "cell_type": "code",
      "source": [
        "num = 20\n",
        "for i in range(1,num):\n",
        "  if (i%5==0 or i%7==0):\n",
        "    print(i)"
      ],
      "metadata": {
        "colab": {
          "base_uri": "https://localhost:8080/"
        },
        "id": "kOlgO2CkGzZU",
        "outputId": "ff563832-dc4a-4ce3-ed50-a047865cb853"
      },
      "execution_count": 29,
      "outputs": [
        {
          "output_type": "stream",
          "name": "stdout",
          "text": [
            "5\n",
            "7\n",
            "10\n",
            "14\n",
            "15\n"
          ]
        }
      ]
    },
    {
      "cell_type": "markdown",
      "source": [
        "### Print the sum of  first 100 numbers."
      ],
      "metadata": {
        "id": "2edyn1VMJtnA"
      }
    },
    {
      "cell_type": "code",
      "source": [
        "s = 0\n",
        "for i in range (0,101):\n",
        "  s = s+i\n",
        "print(s)"
      ],
      "metadata": {
        "colab": {
          "base_uri": "https://localhost:8080/"
        },
        "id": "IwNbyZL6J2DV",
        "outputId": "1dbfd57c-ecf3-4196-d680-566cbbaebf8e"
      },
      "execution_count": 30,
      "outputs": [
        {
          "output_type": "stream",
          "name": "stdout",
          "text": [
            "5050\n"
          ]
        }
      ]
    },
    {
      "cell_type": "markdown",
      "source": [
        "### Nested for loop"
      ],
      "metadata": {
        "id": "OovqQC04MB5Y"
      }
    },
    {
      "cell_type": "code",
      "source": [
        "for i in range(1,8):\n",
        "  for j in range (1,8):\n",
        "    print(i,j)"
      ],
      "metadata": {
        "colab": {
          "base_uri": "https://localhost:8080/"
        },
        "id": "ax_D04aZKklc",
        "outputId": "27d2a93d-8148-457e-fcd3-1394e0fef72b"
      },
      "execution_count": 32,
      "outputs": [
        {
          "output_type": "stream",
          "name": "stdout",
          "text": [
            "1 1\n",
            "1 2\n",
            "1 3\n",
            "1 4\n",
            "1 5\n",
            "1 6\n",
            "1 7\n",
            "2 1\n",
            "2 2\n",
            "2 3\n",
            "2 4\n",
            "2 5\n",
            "2 6\n",
            "2 7\n",
            "3 1\n",
            "3 2\n",
            "3 3\n",
            "3 4\n",
            "3 5\n",
            "3 6\n",
            "3 7\n",
            "4 1\n",
            "4 2\n",
            "4 3\n",
            "4 4\n",
            "4 5\n",
            "4 6\n",
            "4 7\n",
            "5 1\n",
            "5 2\n",
            "5 3\n",
            "5 4\n",
            "5 5\n",
            "5 6\n",
            "5 7\n",
            "6 1\n",
            "6 2\n",
            "6 3\n",
            "6 4\n",
            "6 5\n",
            "6 6\n",
            "6 7\n",
            "7 1\n",
            "7 2\n",
            "7 3\n",
            "7 4\n",
            "7 5\n",
            "7 6\n",
            "7 7\n"
          ]
        }
      ]
    },
    {
      "cell_type": "code",
      "source": [
        "for i in range(1,8):\n",
        "  for j in range(i,8):\n",
        "    print(i,j)"
      ],
      "metadata": {
        "colab": {
          "base_uri": "https://localhost:8080/"
        },
        "id": "p5ADRHlaNOfo",
        "outputId": "6b00562c-567f-49a2-810a-4e229a57d274"
      },
      "execution_count": 33,
      "outputs": [
        {
          "output_type": "stream",
          "name": "stdout",
          "text": [
            "1 1\n",
            "1 2\n",
            "1 3\n",
            "1 4\n",
            "1 5\n",
            "1 6\n",
            "1 7\n",
            "2 2\n",
            "2 3\n",
            "2 4\n",
            "2 5\n",
            "2 6\n",
            "2 7\n",
            "3 3\n",
            "3 4\n",
            "3 5\n",
            "3 6\n",
            "3 7\n",
            "4 4\n",
            "4 5\n",
            "4 6\n",
            "4 7\n",
            "5 5\n",
            "5 6\n",
            "5 7\n",
            "6 6\n",
            "6 7\n",
            "7 7\n"
          ]
        }
      ]
    },
    {
      "cell_type": "markdown",
      "source": [
        "### Print all the combinations of dice which can give you sum 6."
      ],
      "metadata": {
        "id": "6ag9DGCyOS3N"
      }
    },
    {
      "cell_type": "code",
      "source": [
        "for i in range(1,7):\n",
        "  for j in range(1,7):\n",
        "    if (i+j)==6:\n",
        "      print(i,j)"
      ],
      "metadata": {
        "colab": {
          "base_uri": "https://localhost:8080/"
        },
        "id": "e_Niu11_NtS0",
        "outputId": "369e9cbe-23fb-4c3b-c901-2b090da03d7c"
      },
      "execution_count": 35,
      "outputs": [
        {
          "output_type": "stream",
          "name": "stdout",
          "text": [
            "1 5\n",
            "2 4\n",
            "3 3\n",
            "4 2\n",
            "5 1\n"
          ]
        }
      ]
    },
    {
      "cell_type": "markdown",
      "source": [
        "### Probability of getting sum 6."
      ],
      "metadata": {
        "id": "Hw2Z_Z_zO1cA"
      }
    },
    {
      "cell_type": "code",
      "source": [
        "c= 0\n",
        "for i in range(1,7):\n",
        "  for j in range(1,7):\n",
        "    if (i+j)== 6:\n",
        "      c+=1\n",
        "print(round(c/36,3))\n",
        "#print(c,'/',36)\n",
        "#print(str(c)+'/'+str(36))\n"
      ],
      "metadata": {
        "colab": {
          "base_uri": "https://localhost:8080/"
        },
        "id": "s62Tcq3OO9GQ",
        "outputId": "987279f9-7bc6-4b27-9e7b-77bece17a864"
      },
      "execution_count": 50,
      "outputs": [
        {
          "output_type": "stream",
          "name": "stdout",
          "text": [
            "0.139\n"
          ]
        }
      ]
    },
    {
      "cell_type": "code",
      "source": [
        "for x in range(1,13):\n",
        " c= 0\n",
        " for i in range(1,7):\n",
        "    for j in range(1,7):\n",
        "      if (i+j)==x:\n",
        "       c+=1\n",
        " print(x,round(c/36,3))"
      ],
      "metadata": {
        "colab": {
          "base_uri": "https://localhost:8080/"
        },
        "id": "ZA8vwLOUSTWQ",
        "outputId": "8c9ad2b9-ba63-4300-b334-f1df9b97b528"
      },
      "execution_count": 53,
      "outputs": [
        {
          "output_type": "stream",
          "name": "stdout",
          "text": [
            "1 0.0\n",
            "2 0.028\n",
            "3 0.056\n",
            "4 0.083\n",
            "5 0.111\n",
            "6 0.139\n",
            "7 0.167\n",
            "8 0.139\n",
            "9 0.111\n",
            "10 0.083\n",
            "11 0.056\n",
            "12 0.028\n"
          ]
        }
      ]
    }
  ]
}