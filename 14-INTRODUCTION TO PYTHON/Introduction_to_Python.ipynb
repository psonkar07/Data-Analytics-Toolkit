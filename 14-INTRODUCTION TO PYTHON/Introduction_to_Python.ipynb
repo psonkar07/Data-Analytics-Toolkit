{
  "nbformat": 4,
  "nbformat_minor": 0,
  "metadata": {
    "colab": {
      "provenance": []
    },
    "kernelspec": {
      "name": "python3",
      "display_name": "Python 3"
    },
    "language_info": {
      "name": "python"
    }
  },
  "cells": [
    {
      "cell_type": "markdown",
      "source": [
        "### 1. Introduction to Python"
      ],
      "metadata": {
        "id": "g-J9NlSgXFCu"
      }
    },
    {
      "cell_type": "code",
      "source": [],
      "metadata": {
        "id": "UujAnGCSuhHq"
      },
      "execution_count": null,
      "outputs": []
    },
    {
      "cell_type": "markdown",
      "source": [
        "#####  1.1) Hello World"
      ],
      "metadata": {
        "id": "-26iqU8HXoxz"
      }
    },
    {
      "cell_type": "code",
      "source": [
        "print('Hello World')"
      ],
      "metadata": {
        "colab": {
          "base_uri": "https://localhost:8080/"
        },
        "id": "fzxIxbNeOo-Q",
        "outputId": "a40eb78b-86e4-4fa3-b774-6858fbb0a11b"
      },
      "execution_count": null,
      "outputs": [
        {
          "output_type": "stream",
          "name": "stdout",
          "text": [
            "Hello World\n"
          ]
        }
      ]
    },
    {
      "cell_type": "markdown",
      "source": [
        "\n",
        "\n",
        "\n",
        "#### 1.2) Dealing with Datatypes"
      ],
      "metadata": {
        "id": "ocIhEbAPXuYr"
      }
    },
    {
      "cell_type": "markdown",
      "source": [
        "1.2.1) int"
      ],
      "metadata": {
        "id": "Fj3XjpDlYNac"
      }
    },
    {
      "cell_type": "code",
      "source": [
        "print(type(29))\n",
        "print(type(-24))\n",
        "print(type(0))"
      ],
      "metadata": {
        "colab": {
          "base_uri": "https://localhost:8080/"
        },
        "id": "0oQQFXe1OpCS",
        "outputId": "35ae68f5-3437-4ff1-f68f-f8688c1298b5"
      },
      "execution_count": null,
      "outputs": [
        {
          "output_type": "stream",
          "name": "stdout",
          "text": [
            "<class 'int'>\n",
            "<class 'int'>\n",
            "<class 'int'>\n"
          ]
        }
      ]
    },
    {
      "cell_type": "markdown",
      "source": [
        "1.2.2) float"
      ],
      "metadata": {
        "id": "tOzVnlO9Yp_r"
      }
    },
    {
      "cell_type": "code",
      "source": [
        "print(type(14.4))\n",
        "print(type(0.000000001))\n",
        "print(type(0.0))"
      ],
      "metadata": {
        "colab": {
          "base_uri": "https://localhost:8080/"
        },
        "id": "uVq09u8WOpE0",
        "outputId": "017d2bdf-36ff-444d-c78b-6765b5c612af"
      },
      "execution_count": null,
      "outputs": [
        {
          "output_type": "stream",
          "name": "stdout",
          "text": [
            "<class 'float'>\n",
            "<class 'float'>\n",
            "<class 'float'>\n"
          ]
        }
      ]
    },
    {
      "cell_type": "markdown",
      "source": [
        "1.2.3) string"
      ],
      "metadata": {
        "id": "P7PXvQ9IYxRo"
      }
    },
    {
      "cell_type": "code",
      "source": [
        "print(type('A'))\n",
        "print(type('Pratiksha'))\n",
        "print(type('He is very nice'))\n",
        "print(type('5.5'))\n",
        "print(type('True'))"
      ],
      "metadata": {
        "colab": {
          "base_uri": "https://localhost:8080/"
        },
        "id": "oiPk8yUXOpHh",
        "outputId": "d6bc15e5-7ac0-4764-ba09-5a2fd37999f0"
      },
      "execution_count": null,
      "outputs": [
        {
          "output_type": "stream",
          "name": "stdout",
          "text": [
            "<class 'str'>\n",
            "<class 'str'>\n",
            "<class 'str'>\n",
            "<class 'str'>\n",
            "<class 'str'>\n"
          ]
        }
      ]
    },
    {
      "cell_type": "markdown",
      "source": [
        "1.2.4) boolean"
      ],
      "metadata": {
        "id": "VnS1GI6tZSeW"
      }
    },
    {
      "cell_type": "code",
      "source": [
        "print(type(True))\n",
        "print(type(False))"
      ],
      "metadata": {
        "colab": {
          "base_uri": "https://localhost:8080/"
        },
        "id": "-j3ELzheY5B5",
        "outputId": "6e0a8454-4417-46d5-a0a9-380b83f241b6"
      },
      "execution_count": null,
      "outputs": [
        {
          "output_type": "stream",
          "name": "stdout",
          "text": [
            "<class 'bool'>\n",
            "<class 'bool'>\n"
          ]
        }
      ]
    },
    {
      "cell_type": "markdown",
      "source": [
        "#### 1.3) Operators"
      ],
      "metadata": {
        "id": "YAbCFzAaaeIT"
      }
    },
    {
      "cell_type": "markdown",
      "source": [
        "1.3.1) Arithmetic Operator"
      ],
      "metadata": {
        "id": "9cmWZ02nbNof"
      }
    },
    {
      "cell_type": "code",
      "source": [
        "print('--INT--')\n",
        "print(2+3)\n",
        "print(2-3)\n",
        "print(3/2)\n",
        "print(3//2)\n",
        "print(3%2)\n",
        "print(2*3)\n",
        "print(2**3)\n",
        "\n",
        "print()\n",
        "print()\n",
        "print()\n",
        "print('--STR--')\n",
        "print('A' + 'A')\n",
        "print('Pratiksha' * 3)\n",
        "\n",
        "print()\n",
        "print()\n",
        "print()\n",
        "print('--Bool--')\n",
        "\n",
        "print(True + True)\n",
        "print(True + False)\n",
        "print(False + True)\n",
        "print(False + False)\n",
        "print('-'*5)\n",
        "\n",
        "print(True * True)\n",
        "print(True * False)\n",
        "print(False * True)\n",
        "print(False * False)"
      ],
      "metadata": {
        "colab": {
          "base_uri": "https://localhost:8080/"
        },
        "id": "6Wf4de-4ZzTm",
        "outputId": "6ccb4d62-8069-40f9-818d-dc90a08056ea"
      },
      "execution_count": null,
      "outputs": [
        {
          "output_type": "stream",
          "name": "stdout",
          "text": [
            "--INT--\n",
            "5\n",
            "-1\n",
            "1.5\n",
            "1\n",
            "1\n",
            "6\n",
            "8\n",
            "\n",
            "\n",
            "\n",
            "--STR--\n",
            "AA\n",
            "PratikshaPratikshaPratiksha\n",
            "\n",
            "\n",
            "\n",
            "--Bool--\n",
            "2\n",
            "1\n",
            "1\n",
            "0\n",
            "-----\n",
            "1\n",
            "0\n",
            "0\n",
            "0\n"
          ]
        }
      ]
    },
    {
      "cell_type": "code",
      "source": [],
      "metadata": {
        "id": "Dy-Ayb7qojIa"
      },
      "execution_count": null,
      "outputs": []
    },
    {
      "cell_type": "code",
      "source": [
        "print(bool('a'))\n",
        "print(bool('0'))\n",
        "print(bool('1'))\n",
        "print(bool(''))\n",
        "\n"
      ],
      "metadata": {
        "colab": {
          "base_uri": "https://localhost:8080/"
        },
        "id": "nfUnB9hxokU6",
        "outputId": "64028393-bb80-4453-9e48-3c6d2ff469e9"
      },
      "execution_count": null,
      "outputs": [
        {
          "output_type": "stream",
          "name": "stdout",
          "text": [
            "True\n",
            "True\n",
            "True\n",
            "False\n"
          ]
        }
      ]
    },
    {
      "cell_type": "markdown",
      "source": [
        "1.3.2) Comparison Operators"
      ],
      "metadata": {
        "id": "1ei3wqnWeoRB"
      }
    },
    {
      "cell_type": "code",
      "source": [
        "print(2>3)\n",
        "print(2<3)\n",
        "print(2>=3)\n",
        "print(2<=3)\n",
        "print(2==3)\n",
        "print(2!=3)\n",
        "\n",
        "print(2=='2')\n",
        "print(1 == True)\n",
        "print(100 == True*100)\n"
      ],
      "metadata": {
        "colab": {
          "base_uri": "https://localhost:8080/"
        },
        "id": "_uNsLhyfZ0_N",
        "outputId": "1cc02c17-6f44-4ee0-cfbb-1c80fbe8e784"
      },
      "execution_count": null,
      "outputs": [
        {
          "output_type": "stream",
          "name": "stdout",
          "text": [
            "False\n",
            "True\n",
            "False\n",
            "True\n",
            "False\n",
            "True\n",
            "False\n",
            "True\n",
            "True\n"
          ]
        }
      ]
    },
    {
      "cell_type": "markdown",
      "source": [
        "1.3.3) Logical Operators"
      ],
      "metadata": {
        "id": "gJ8WCu7Eg0oG"
      }
    },
    {
      "cell_type": "code",
      "source": [
        "print(True and True)\n",
        "print(True and False)\n",
        "print(False and True)\n",
        "print(False and False)\n",
        "\n",
        "print(True or True)\n",
        "print(True or False)\n",
        "print(False or True)\n",
        "print(False or False)\n",
        "\n",
        "print(not(True))"
      ],
      "metadata": {
        "colab": {
          "base_uri": "https://localhost:8080/"
        },
        "id": "yPbmis-Wc9jd",
        "outputId": "6bbdc0fb-2887-4d04-a7d2-9674b7334019"
      },
      "execution_count": null,
      "outputs": [
        {
          "output_type": "stream",
          "name": "stdout",
          "text": [
            "True\n",
            "False\n",
            "False\n",
            "False\n",
            "True\n",
            "True\n",
            "True\n",
            "False\n",
            "False\n"
          ]
        }
      ]
    },
    {
      "cell_type": "markdown",
      "source": [
        "#### 1.4) Typecasting"
      ],
      "metadata": {
        "id": "1b5NBzVjhqpG"
      }
    },
    {
      "cell_type": "markdown",
      "source": [
        "1.4.1) int"
      ],
      "metadata": {
        "id": "d2uDl59Jhv_E"
      }
    },
    {
      "cell_type": "code",
      "source": [
        "print(int(12.5))\n",
        "print(type(int(12.5)))\n",
        "\n",
        "print(int('121312'))\n",
        "print(type(int('121312')))\n",
        "\n",
        "print(int(True))\n",
        "print(type(int(True)))"
      ],
      "metadata": {
        "colab": {
          "base_uri": "https://localhost:8080/"
        },
        "id": "tcROLh9MhKp8",
        "outputId": "721a32d1-d2ea-40a2-9f6f-3b1b74789336"
      },
      "execution_count": null,
      "outputs": [
        {
          "output_type": "stream",
          "name": "stdout",
          "text": [
            "12\n",
            "<class 'int'>\n",
            "121312\n",
            "<class 'int'>\n",
            "1\n",
            "<class 'int'>\n"
          ]
        }
      ]
    },
    {
      "cell_type": "markdown",
      "source": [
        "1.4.2) float"
      ],
      "metadata": {
        "id": "mnwu_jadi-6s"
      }
    },
    {
      "cell_type": "code",
      "source": [
        "print(float(12))\n",
        "\n",
        "print(float('12'))\n",
        "\n",
        "print(float(True))"
      ],
      "metadata": {
        "colab": {
          "base_uri": "https://localhost:8080/"
        },
        "id": "83cVMSYmhQFs",
        "outputId": "def233cf-b992-4be9-97e4-f32f894a6ad2"
      },
      "execution_count": null,
      "outputs": [
        {
          "output_type": "stream",
          "name": "stdout",
          "text": [
            "12.0\n",
            "12.0\n",
            "1.0\n"
          ]
        }
      ]
    },
    {
      "cell_type": "markdown",
      "source": [
        "1.4.3) str"
      ],
      "metadata": {
        "id": "pFqXAPuWjWH7"
      }
    },
    {
      "cell_type": "code",
      "source": [
        "print(str(12))\n",
        "\n",
        "print(str(12.5))\n",
        "\n",
        "print(str(True))"
      ],
      "metadata": {
        "colab": {
          "base_uri": "https://localhost:8080/"
        },
        "id": "sEnPWZM1jL-1",
        "outputId": "7d49212b-23b2-4030-eb59-9a92581d1622"
      },
      "execution_count": null,
      "outputs": [
        {
          "output_type": "stream",
          "name": "stdout",
          "text": [
            "12\n",
            "12.5\n",
            "True\n"
          ]
        }
      ]
    },
    {
      "cell_type": "markdown",
      "source": [
        "1.4.4) bool"
      ],
      "metadata": {
        "id": "dyk6ujgaj6_c"
      }
    },
    {
      "cell_type": "code",
      "source": [
        "print(bool(0.0000000000000000))\n",
        "\n",
        "\n",
        "print(bool('0'))\n",
        "print(bool('0.0000000000000000'))\n",
        "print(bool(''))"
      ],
      "metadata": {
        "colab": {
          "base_uri": "https://localhost:8080/"
        },
        "id": "GGm4EPfGjmwJ",
        "outputId": "6d71b379-643b-450b-aebe-e4abcae2a019"
      },
      "execution_count": null,
      "outputs": [
        {
          "output_type": "stream",
          "name": "stdout",
          "text": [
            "False\n",
            "True\n",
            "True\n",
            "False\n"
          ]
        }
      ]
    }
  ]
}