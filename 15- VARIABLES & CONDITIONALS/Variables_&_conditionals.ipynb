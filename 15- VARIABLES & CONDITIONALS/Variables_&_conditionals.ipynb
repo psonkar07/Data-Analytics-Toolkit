{
  "nbformat": 4,
  "nbformat_minor": 0,
  "metadata": {
    "colab": {
      "provenance": []
    },
    "kernelspec": {
      "name": "python3",
      "display_name": "Python 3"
    },
    "language_info": {
      "name": "python"
    }
  },
  "cells": [
    {
      "cell_type": "markdown",
      "source": [
        "\n",
        "### 1- Variables\n",
        "---\n",
        "\n"
      ],
      "metadata": {
        "id": "XJttYCEuk5Il"
      }
    },
    {
      "cell_type": "code",
      "source": [
        "a = int(input(\"enter the first num:\"))\n",
        "b = int(input(\"enter the second num:\"))\n",
        "\n",
        "print(a+b)\n",
        "print(a-b)\n",
        "print(a/b)\n",
        "print(a//b)\n",
        "print(a*b)\n",
        "print(a%b)\n",
        "print(a**b)\n"
      ],
      "metadata": {
        "colab": {
          "base_uri": "https://localhost:8080/"
        },
        "id": "dvrTmAlglCyT",
        "outputId": "c8ab8dd0-6b5e-40a6-d59a-198d58ed2080"
      },
      "execution_count": 1,
      "outputs": [
        {
          "output_type": "stream",
          "name": "stdout",
          "text": [
            "enter the first num:12\n",
            "enter the second num:5\n",
            "17\n",
            "7\n",
            "2.4\n",
            "2\n",
            "60\n",
            "2\n",
            "248832\n"
          ]
        }
      ]
    },
    {
      "cell_type": "markdown",
      "source": [
        "### 2- Conditionals"
      ],
      "metadata": {
        "id": "wqQsRT2-mHQr"
      }
    },
    {
      "cell_type": "code",
      "execution_count": 10,
      "metadata": {
        "colab": {
          "base_uri": "https://localhost:8080/"
        },
        "id": "DHR7geO9kxCp",
        "outputId": "c4ed6f39-801e-4c5e-d30c-b83202fbf4b2"
      },
      "outputs": [
        {
          "output_type": "stream",
          "name": "stdout",
          "text": [
            "enter the age:15\n",
            "not eligible to vote\n"
          ]
        }
      ],
      "source": [
        "age = int(input(\"enter the age:\"))\n",
        "\n",
        "if age >=18 and age <=100 :\n",
        "  print(\"eligible to vote\")\n",
        "elif age >=0 and age <18 :\n",
        "  print(\"not eligible to vote\")\n",
        "else:\n",
        "  print(\"invalid age\")\n"
      ]
    }
  ]
}