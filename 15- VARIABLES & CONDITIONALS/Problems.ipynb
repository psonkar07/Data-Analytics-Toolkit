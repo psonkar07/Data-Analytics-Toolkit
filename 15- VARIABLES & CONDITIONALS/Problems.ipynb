{
  "nbformat": 4,
  "nbformat_minor": 0,
  "metadata": {
    "colab": {
      "provenance": []
    },
    "kernelspec": {
      "name": "python3",
      "display_name": "Python 3"
    },
    "language_info": {
      "name": "python"
    }
  },
  "cells": [
    {
      "cell_type": "markdown",
      "source": [
        "### Problems"
      ],
      "metadata": {
        "id": "rQdr0Z7sxfiY"
      }
    },
    {
      "cell_type": "markdown",
      "source": [
        "9- Write a Python one-liner that checks if a number is greater than 100 and assigns the string \"Large\" or \"Small\" based on the result."
      ],
      "metadata": {
        "id": "OeUWu2jr-26N"
      }
    },
    {
      "cell_type": "code",
      "source": [
        "num = int(input(\"enter the num:\"))\n",
        "\n",
        "if num >100 :\n",
        "  print(\"large\")\n",
        "else:\n",
        "  print(\"small\")"
      ],
      "metadata": {
        "colab": {
          "base_uri": "https://localhost:8080/"
        },
        "id": "ij1A99r--5H3",
        "outputId": "d7d82171-b810-4f31-f6e2-b06ac81d4206"
      },
      "execution_count": null,
      "outputs": [
        {
          "output_type": "stream",
          "name": "stdout",
          "text": [
            "enter the num:102\n",
            "large\n"
          ]
        }
      ]
    },
    {
      "cell_type": "markdown",
      "source": [
        "8- Write a Python function that checks if a character is a vowel. If it is, print \"Vowel\", otherwise print \"Consonant\"."
      ],
      "metadata": {
        "id": "kHbj-N-t8PkF"
      }
    },
    {
      "cell_type": "code",
      "source": [
        "alp_1 = input('enter the char:')\n",
        "def vowels(char):\n",
        "    vowels = {'a','e','i','o','u','A','E','I','O','U'}\n",
        "\n",
        "    if char in vowels:\n",
        "     print(\"Vowel\")\n",
        "    else:\n",
        "     print(\"consonant\")\n",
        "vowels(alp_1)"
      ],
      "metadata": {
        "colab": {
          "base_uri": "https://localhost:8080/"
        },
        "id": "1eXHNsvB8SGy",
        "outputId": "8ece6fb7-b559-4696-ac23-b6b0c7259260"
      },
      "execution_count": 19,
      "outputs": [
        {
          "output_type": "stream",
          "name": "stdout",
          "text": [
            "enter the char:O\n",
            "Vowel\n"
          ]
        }
      ]
    },
    {
      "cell_type": "markdown",
      "source": [
        "7-Write a Python function that checks if a number is within a specific range (10 to 20 inclusive) and prints \"In range\" if it is, otherwise print \"Out of range\"."
      ],
      "metadata": {
        "id": "qYSg61qG7d06"
      }
    },
    {
      "cell_type": "code",
      "source": [
        "number = int(input(\"enter the number:\"))\n",
        "\n",
        "if number>=10 and number<=20:\n",
        "  print(\"In range\")\n",
        "else:\n",
        "  print(\"out of range\")"
      ],
      "metadata": {
        "colab": {
          "base_uri": "https://localhost:8080/"
        },
        "id": "FCTzsD6d7h5t",
        "outputId": "a9db29ab-a39c-4d3e-f059-5091ee5e3b35"
      },
      "execution_count": null,
      "outputs": [
        {
          "output_type": "stream",
          "name": "stdout",
          "text": [
            "enter the number:56\n",
            "out of range\n"
          ]
        }
      ]
    },
    {
      "cell_type": "markdown",
      "source": [
        "6- Write a Python function that checks if a year is a leap year. A year is a leap year if it is divisible by 4 but not divisible by 100, except when it is divisible by 400."
      ],
      "metadata": {
        "id": "i4zocDYu5O2c"
      }
    },
    {
      "cell_type": "code",
      "source": [
        "year = int(input(\"enter the year:\"))\n",
        "\n",
        "if (year%4 ==0 and year%100 !=0) or (year%400 ==0) :\n",
        "  print(\"leap year\")"
      ],
      "metadata": {
        "colab": {
          "base_uri": "https://localhost:8080/"
        },
        "id": "tthUR2mM5Rcd",
        "outputId": "52838b81-da49-4866-ddeb-6bedcbc85f63"
      },
      "execution_count": null,
      "outputs": [
        {
          "output_type": "stream",
          "name": "stdout",
          "text": [
            "enter the year:2016\n",
            "leap year\n"
          ]
        }
      ]
    },
    {
      "cell_type": "markdown",
      "source": [
        "5-Write a Python function that checks a grade and prints \"A\" for scores 90 and above, \"B\" for scores 80-89, \"C\" for scores 70-79, \"D\" for scores 60-69, and \"F\" for scores below 60."
      ],
      "metadata": {
        "id": "ZqfiC3oA3lJ3"
      }
    },
    {
      "cell_type": "code",
      "source": [
        "score = int(input(\"enter the score:\"))\n",
        "\n",
        "if score >=90 :\n",
        "  print(\"Grade A\")\n",
        "elif score >=80 and score <=89 :\n",
        "  print(\"Grade B\")\n",
        "elif score >=70 and score <=79:\n",
        "  print(\"Grade C\")\n",
        "elif score >=60 and score <=69:\n",
        "  print(\"Grade D\")\n",
        "else:\n",
        "  print(\"Grade F\")"
      ],
      "metadata": {
        "colab": {
          "base_uri": "https://localhost:8080/"
        },
        "id": "6ZkJ1G_g3pAK",
        "outputId": "b99a34a4-9c73-4276-e86e-d8eb5f8c1413"
      },
      "execution_count": null,
      "outputs": [
        {
          "output_type": "stream",
          "name": "stdout",
          "text": [
            "enter the score:45\n",
            "Grade F\n"
          ]
        }
      ]
    },
    {
      "cell_type": "markdown",
      "source": [
        "4-Write a Python function that checks if a number is positive and even. If it is, print \"Positive and Even\"."
      ],
      "metadata": {
        "id": "yTNsG_2J2ujU"
      }
    },
    {
      "cell_type": "code",
      "source": [
        "number = int(input(\"enter the number:\"))\n",
        "\n",
        "if number >0 and number %2 ==0 :\n",
        "  print(\"Positive and Even\")"
      ],
      "metadata": {
        "colab": {
          "base_uri": "https://localhost:8080/"
        },
        "id": "f_2QgVng2xp1",
        "outputId": "e2c23955-74ea-418d-bf80-4a554e9b099b"
      },
      "execution_count": null,
      "outputs": [
        {
          "output_type": "stream",
          "name": "stdout",
          "text": [
            "enter the number:66\n",
            "Positive and Even\n"
          ]
        }
      ]
    },
    {
      "cell_type": "markdown",
      "source": [
        "3-Write a Python function that checks a number and prints \"Positive\", \"Negative\", or \"Zero\" based on its value."
      ],
      "metadata": {
        "id": "dpmT_6Vo1sKT"
      }
    },
    {
      "cell_type": "code",
      "source": [
        "number = int(input(\"Enter the number:\"))\n",
        "\n",
        "if number >0 :\n",
        "  print(\"Positive\")\n",
        "elif number <0 :\n",
        "  print(\"Negative\")\n",
        "else:\n",
        "  print(\"Zero\")"
      ],
      "metadata": {
        "colab": {
          "base_uri": "https://localhost:8080/"
        },
        "id": "aDhXN6zS1vVF",
        "outputId": "c04afa9f-ed40-4a6b-e4b8-e2bc790d06c2"
      },
      "execution_count": null,
      "outputs": [
        {
          "output_type": "stream",
          "name": "stdout",
          "text": [
            "Enter the number:-876\n",
            "Negative\n"
          ]
        }
      ]
    },
    {
      "cell_type": "markdown",
      "source": [
        "2- Write a Python function that checks if a number is even or odd. Print \"Even\" for even numbers and \"Odd\" for odd numbers."
      ],
      "metadata": {
        "id": "3cpY1AdU0g4m"
      }
    },
    {
      "cell_type": "code",
      "source": [
        "num = int(input(\"Enter the number:\"))\n",
        "\n",
        "if num %2 ==0 :\n",
        "  print(\"Even\")\n",
        "\n",
        "else:\n",
        "  print(\"odd\")"
      ],
      "metadata": {
        "colab": {
          "base_uri": "https://localhost:8080/"
        },
        "id": "zv3M1MS90lOg",
        "outputId": "44184cac-2050-4d95-b159-e4c235459f98"
      },
      "execution_count": null,
      "outputs": [
        {
          "output_type": "stream",
          "name": "stdout",
          "text": [
            "Enter the number:77\n",
            "odd\n"
          ]
        }
      ]
    },
    {
      "cell_type": "markdown",
      "source": [
        "1- Write a Python function that checks if a number is positive. If it is, print \"Positive\"."
      ],
      "metadata": {
        "id": "nkU99U2O0MpV"
      }
    },
    {
      "cell_type": "code",
      "source": [
        " number = int(input(\"Enter the num :\"))\n",
        "\n",
        " if number >= 0:\n",
        "  print(\"positive\")"
      ],
      "metadata": {
        "colab": {
          "base_uri": "https://localhost:8080/"
        },
        "id": "rclRU1EOx266",
        "outputId": "98b57664-1ad0-4efc-b29e-b26d4bb867e1"
      },
      "execution_count": null,
      "outputs": [
        {
          "output_type": "stream",
          "name": "stdout",
          "text": [
            "Enter the num :23\n",
            "positive\n"
          ]
        }
      ]
    },
    {
      "cell_type": "markdown",
      "source": [],
      "metadata": {
        "id": "syFheB8LxtTs"
      }
    },
    {
      "cell_type": "markdown",
      "source": [],
      "metadata": {
        "id": "7oTix7DZ0DxZ"
      }
    }
  ]
}